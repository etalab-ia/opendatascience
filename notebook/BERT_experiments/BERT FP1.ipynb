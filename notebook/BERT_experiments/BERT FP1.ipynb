{
 "cells": [
  {
   "cell_type": "markdown",
   "metadata": {},
   "source": [
    "### Imports"
   ]
  },
  {
   "cell_type": "code",
   "execution_count": 1,
   "metadata": {},
   "outputs": [],
   "source": [
    "import torch\n",
    "from transformers import FlaubertModel, FlaubertTokenizer"
   ]
  },
  {
   "cell_type": "code",
   "execution_count": 2,
   "metadata": {},
   "outputs": [],
   "source": [
    "modelname = 'flaubert/flaubert_large_cased' "
   ]
  },
  {
   "cell_type": "code",
   "execution_count": 3,
   "metadata": {},
   "outputs": [
    {
     "data": {
      "application/vnd.jupyter.widget-view+json": {
       "model_id": "17b0eaa3576747ab8975616284719334",
       "version_major": 2,
       "version_minor": 0
      },
      "text/plain": [
       "HBox(children=(FloatProgress(value=0.0, description='Downloading', max=1496.0, style=ProgressStyle(description…"
      ]
     },
     "metadata": {},
     "output_type": "display_data"
    },
    {
     "name": "stdout",
     "output_type": "stream",
     "text": [
      "\n"
     ]
    },
    {
     "data": {
      "application/vnd.jupyter.widget-view+json": {
       "model_id": "2ebecf2d6bfc48a2b58856545854088a",
       "version_major": 2,
       "version_minor": 0
      },
      "text/plain": [
       "HBox(children=(FloatProgress(value=0.0, description='Downloading', max=553238687.0, style=ProgressStyle(descri…"
      ]
     },
     "metadata": {},
     "output_type": "display_data"
    },
    {
     "name": "stdout",
     "output_type": "stream",
     "text": [
      "\n"
     ]
    },
    {
     "data": {
      "application/vnd.jupyter.widget-view+json": {
       "model_id": "e794801006804333ba5aa7b797975577",
       "version_major": 2,
       "version_minor": 0
      },
      "text/plain": [
       "HBox(children=(FloatProgress(value=0.0, description='Downloading', max=1561415.0, style=ProgressStyle(descript…"
      ]
     },
     "metadata": {},
     "output_type": "display_data"
    },
    {
     "name": "stdout",
     "output_type": "stream",
     "text": [
      "\n"
     ]
    },
    {
     "data": {
      "application/vnd.jupyter.widget-view+json": {
       "model_id": "c5454fb3261b4723bcfeace8f8f68d52",
       "version_major": 2,
       "version_minor": 0
      },
      "text/plain": [
       "HBox(children=(FloatProgress(value=0.0, description='Downloading', max=895731.0, style=ProgressStyle(descripti…"
      ]
     },
     "metadata": {},
     "output_type": "display_data"
    },
    {
     "name": "stdout",
     "output_type": "stream",
     "text": [
      "\n"
     ]
    }
   ],
   "source": [
    "flaubert, log = FlaubertModel.from_pretrained(modelname, output_loading_info=True)\n",
    "flaubert_tokenizer = FlaubertTokenizer.from_pretrained(modelname, do_lowercase=False)"
   ]
  },
  {
   "cell_type": "markdown",
   "metadata": {},
   "source": [
    "### Pure FlauBERT"
   ]
  },
  {
   "cell_type": "code",
   "execution_count": 4,
   "metadata": {},
   "outputs": [
    {
     "name": "stdout",
     "output_type": "stream",
     "text": [
      "torch.Size([1, 8, 768])\n"
     ]
    }
   ],
   "source": [
    "sentence = \"Le chat mange une pomme.\"\n",
    "token_ids = torch.tensor([flaubert_tokenizer.encode(sentence)])\n",
    "\n",
    "last_layer = flaubert(token_ids)[0]\n",
    "print(last_layer.shape)\n",
    "# torch.Size([1, 8, 768])  -> (batch size x number of tokens x embedding dimension)\n",
    "\n",
    "# The BERT [CLS] token correspond to the first hidden state of the last layer\n",
    "cls_embedding = last_layer[:, 0, :]"
   ]
  },
  {
   "cell_type": "code",
   "execution_count": 5,
   "metadata": {},
   "outputs": [
    {
     "data": {
      "text/plain": [
       "tensor([[[ 0.3711,  0.3744, -0.1044,  ...,  0.2788,  1.6171,  1.5743],\n",
       "         [-0.3475, -0.4302, -1.2414,  ..., -0.7886, -0.2546,  0.2149],\n",
       "         [-0.6474, -1.6147, -2.5066,  ...,  0.5554, -0.3403,  0.1027],\n",
       "         ...,\n",
       "         [-2.6465, -0.0552, -3.8672,  ..., -2.0638,  0.6116, -1.1269],\n",
       "         [-1.1969, -1.1622,  1.4329,  ..., -2.3904, -0.9578,  1.3920],\n",
       "         [-2.1017, -1.3640,  1.2869,  ..., -1.7465,  0.3996,  0.1256]]],\n",
       "       grad_fn=<MulBackward0>)"
      ]
     },
     "execution_count": 5,
     "metadata": {},
     "output_type": "execute_result"
    }
   ],
   "source": [
    "last_layer"
   ]
  },
  {
   "cell_type": "markdown",
   "metadata": {},
   "source": [
    "### Custom UKP"
   ]
  },
  {
   "cell_type": "code",
   "execution_count": 8,
   "metadata": {},
   "outputs": [],
   "source": [
    "from sentence_transformers import SentenceTransformer, models"
   ]
  },
  {
   "cell_type": "code",
   "execution_count": 12,
   "metadata": {},
   "outputs": [],
   "source": [
    "pooling_model = models.Pooling(last_layer.shape[-1],\n",
    "                               pooling_mode_mean_tokens=True,\n",
    "                               pooling_mode_cls_token=False,\n",
    "                               pooling_mode_max_tokens=False)"
   ]
  },
  {
   "cell_type": "code",
   "execution_count": 13,
   "metadata": {},
   "outputs": [],
   "source": [
    "model = SentenceTransformer(modules=[flaubert, pooling_model])"
   ]
  },
  {
   "cell_type": "code",
   "execution_count": 14,
   "metadata": {},
   "outputs": [],
   "source": [
    "corpus = ['Un homme mange un repas.',\n",
    "          \"Quelqu'un mange un moreceau de pain.\",\n",
    "          'La fille porte un bébé.',\n",
    "          'Un homme est à cheval.',\n",
    "          'Une femme joue du violon.',\n",
    "          'Deux hommes poussent la remorque à travers les bois.',\n",
    "          'Un homme est sur un cheval dans un champ cloturé.',\n",
    "          'Un singe joue du tambour.',\n",
    "          'Un léopard cours après sa proie.'\n",
    "          ]"
   ]
  },
  {
   "cell_type": "markdown",
   "metadata": {},
   "source": [
    "#### UKP way"
   ]
  },
  {
   "cell_type": "code",
   "execution_count": 22,
   "metadata": {},
   "outputs": [
    {
     "data": {
      "application/vnd.jupyter.widget-view+json": {
       "model_id": "2c733383a2504d8f9ca9c65df96e9dd6",
       "version_major": 2,
       "version_minor": 0
      },
      "text/plain": [
       "HBox(children=(FloatProgress(value=0.0, description='Downloading', max=456.0, style=ProgressStyle(description_…"
      ]
     },
     "metadata": {},
     "output_type": "display_data"
    },
    {
     "name": "stdout",
     "output_type": "stream",
     "text": [
      "\n"
     ]
    },
    {
     "data": {
      "application/vnd.jupyter.widget-view+json": {
       "model_id": "4a9ddf29fd8b455f90150319639ff975",
       "version_major": 2,
       "version_minor": 0
      },
      "text/plain": [
       "HBox(children=(FloatProgress(value=0.0, description='Downloading', max=1351074932.0, style=ProgressStyle(descr…"
      ]
     },
     "metadata": {},
     "output_type": "display_data"
    },
    {
     "name": "stdout",
     "output_type": "stream",
     "text": [
      "\n"
     ]
    },
    {
     "data": {
      "application/vnd.jupyter.widget-view+json": {
       "model_id": "2e014e37f2464389be02eb7b385908ec",
       "version_major": 2,
       "version_minor": 0
      },
      "text/plain": [
       "HBox(children=(FloatProgress(value=0.0, description='Downloading', max=808767.0, style=ProgressStyle(descripti…"
      ]
     },
     "metadata": {},
     "output_type": "display_data"
    },
    {
     "name": "stdout",
     "output_type": "stream",
     "text": [
      "\n"
     ]
    }
   ],
   "source": [
    "word_embedding_model = models.Transformer('camembert/camembert-large')"
   ]
  },
  {
   "cell_type": "code",
   "execution_count": 23,
   "metadata": {},
   "outputs": [],
   "source": [
    "pooling_model = models.Pooling(word_embedding_model.get_word_embedding_dimension(),\n",
    "                               pooling_mode_mean_tokens=True,\n",
    "                               pooling_mode_cls_token=False,\n",
    "                               pooling_mode_max_tokens=False)\n",
    "\n",
    "model = SentenceTransformer(modules=[word_embedding_model, pooling_model])"
   ]
  },
  {
   "cell_type": "code",
   "execution_count": 25,
   "metadata": {},
   "outputs": [
    {
     "name": "stdout",
     "output_type": "stream",
     "text": [
      "Sentence: Un homme mange un repas.\n",
      "Embedding: [-0.09479044 -0.06176553 -0.05801992 ... -0.283704    0.01510611\n",
      " -0.0095601 ]\n",
      "\n",
      "Sentence: Quelqu'un mange un moreceau de pain.\n",
      "Embedding: [-0.01211299 -0.03671304 -0.04094827 ... -0.08826046  0.04286108\n",
      "  0.14001717]\n",
      "\n",
      "Sentence: La fille porte un bébé.\n",
      "Embedding: [-0.04641659  0.13057843  0.07414299 ... -0.2190267   0.01468595\n",
      " -0.00437346]\n",
      "\n",
      "Sentence: Un homme est à cheval.\n",
      "Embedding: [-0.08473756 -0.07267409 -0.16023122 ... -0.32772416 -0.04395759\n",
      " -0.04428369]\n",
      "\n",
      "Sentence: Une femme joue du violon.\n",
      "Embedding: [-0.10331791  0.02757867  0.04416429 ... -0.04930815  0.05042475\n",
      " -0.06139763]\n",
      "\n",
      "Sentence: Deux hommes poussent la remorque à travers les bois.\n",
      "Embedding: [-0.01888581  0.08053998  0.05901992 ... -0.17994659 -0.00470037\n",
      " -0.06202056]\n",
      "\n",
      "Sentence: Un homme est sur un cheval dans un champ cloturé.\n",
      "Embedding: [ 0.09787734 -0.14155664 -0.08529281 ... -0.24030524 -0.06254562\n",
      " -0.01310084]\n",
      "\n",
      "Sentence: Un singe joue du tambour.\n",
      "Embedding: [-0.13173948  0.0396719   0.20605484 ... -0.15992054 -0.02939511\n",
      " -0.10984388]\n",
      "\n",
      "Sentence: Un léopard cours après sa proie.\n",
      "Embedding: [-0.10826057  0.03579058 -0.00370658 ... -0.24988644  0.13577767\n",
      "  0.01307158]\n",
      "\n"
     ]
    }
   ],
   "source": [
    "sentence_embeddings = model.encode(corpus)\n",
    "\n",
    "# The result is a list of sentence embeddings as numpy arrays\n",
    "for sentence, embedding in zip(corpus, sentence_embeddings):\n",
    "    print(\"Sentence:\", sentence)\n",
    "    print(\"Embedding:\", embedding)\n",
    "    print(\"\")"
   ]
  },
  {
   "cell_type": "code",
   "execution_count": null,
   "metadata": {},
   "outputs": [],
   "source": []
  }
 ],
 "metadata": {
  "kernelspec": {
   "display_name": "Python 3",
   "language": "python",
   "name": "python3"
  },
  "language_info": {
   "codemirror_mode": {
    "name": "ipython",
    "version": 3
   },
   "file_extension": ".py",
   "mimetype": "text/x-python",
   "name": "python",
   "nbconvert_exporter": "python",
   "pygments_lexer": "ipython3",
   "version": "3.7.7"
  },
  "toc": {
   "base_numbering": 1,
   "nav_menu": {},
   "number_sections": true,
   "sideBar": true,
   "skip_h1_title": false,
   "title_cell": "Table of Contents",
   "title_sidebar": "Contents",
   "toc_cell": false,
   "toc_position": {},
   "toc_section_display": true,
   "toc_window_display": false
  },
  "varInspector": {
   "cols": {
    "lenName": 16,
    "lenType": 16,
    "lenVar": 40
   },
   "kernels_config": {
    "python": {
     "delete_cmd_postfix": "",
     "delete_cmd_prefix": "del ",
     "library": "var_list.py",
     "varRefreshCmd": "print(var_dic_list())"
    },
    "r": {
     "delete_cmd_postfix": ") ",
     "delete_cmd_prefix": "rm(",
     "library": "var_list.r",
     "varRefreshCmd": "cat(var_dic_list()) "
    }
   },
   "types_to_exclude": [
    "module",
    "function",
    "builtin_function_or_method",
    "instance",
    "_Feature"
   ],
   "window_display": false
  }
 },
 "nbformat": 4,
 "nbformat_minor": 4
}
