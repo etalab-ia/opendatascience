{
 "cells": [
  {
   "cell_type": "code",
   "execution_count": 1,
   "metadata": {},
   "outputs": [],
   "source": [
    "import numpy as np\n",
    "import pandas as pd\n",
    "import scipy\n",
    "from sklearn.manifold import TSNE\n",
    "import warnings\n",
    "warnings.filterwarnings('ignore')\n",
    "\n",
    "import torch\n",
    "from sentence_transformers import SentenceTransformer, models"
   ]
  },
  {
   "cell_type": "code",
   "execution_count": 2,
   "metadata": {},
   "outputs": [],
   "source": [
    "data=np.load('../../data/cleaned3.npy', allow_pickle=True)"
   ]
  },
  {
   "cell_type": "code",
   "execution_count": 2,
   "metadata": {},
   "outputs": [],
   "source": [
    "id_table_new=list(np.load('../../data/id_table_new.npy', allow_pickle=True))"
   ]
  },
  {
   "cell_type": "code",
   "execution_count": 3,
   "metadata": {},
   "outputs": [],
   "source": [
    "model = SentenceTransformer('distiluse-base-multilingual-cased')"
   ]
  },
  {
   "cell_type": "code",
   "execution_count": 4,
   "metadata": {},
   "outputs": [
    {
     "data": {
      "application/vnd.jupyter.widget-view+json": {
       "model_id": "148c6a45e6d04e3da1edad436ee4ca04",
       "version_major": 2,
       "version_minor": 0
      },
      "text/plain": [
       "HBox(children=(FloatProgress(value=0.0, description='Batches', max=5231.0, style=ProgressStyle(description_wid…"
      ]
     },
     "metadata": {},
     "output_type": "display_data"
    },
    {
     "name": "stdout",
     "output_type": "stream",
     "text": [
      "\n"
     ]
    }
   ],
   "source": [
    "embeddings= model.encode(data, batch_size=8, show_progress_bar=True)"
   ]
  },
  {
   "cell_type": "code",
   "execution_count": 4,
   "metadata": {},
   "outputs": [],
   "source": [
    "embeddings=np.load('../../data/multilingual_embeddings_v2.npy')"
   ]
  },
  {
   "cell_type": "code",
   "execution_count": 5,
   "metadata": {},
   "outputs": [
    {
     "data": {
      "text/plain": [
       "array([ 7.18740895e-02, -3.64777143e-03, -2.38013081e-02,  3.76347499e-03,\n",
       "        2.22953968e-02,  5.91440760e-02, -6.98857522e-03, -6.59290701e-02,\n",
       "        2.22539213e-02, -1.65397599e-02,  2.85662897e-03,  1.69542735e-03,\n",
       "        2.45286673e-02,  5.55649260e-03, -9.16428631e-04, -1.20221768e-02,\n",
       "       -2.35343091e-02,  6.54302239e-02, -1.46853738e-02,  7.02569075e-03,\n",
       "       -8.40294641e-03,  4.29729074e-02, -9.21237543e-02, -3.00524980e-02,\n",
       "       -9.63636711e-02, -1.59416497e-02,  2.19537597e-02,  9.82210692e-03,\n",
       "        1.18117169e-01,  4.98081259e-02,  2.34393477e-02, -4.16641645e-02,\n",
       "       -1.46070831e-02,  1.39948679e-02,  3.29233669e-02, -1.86285321e-02,\n",
       "       -2.60580350e-02,  3.19848210e-02, -2.47378014e-02,  1.64260305e-02,\n",
       "        1.56141976e-02,  2.49648411e-02, -9.60115716e-02, -4.79893237e-02,\n",
       "        5.88324182e-02, -8.17859371e-04, -2.90176068e-02,  8.46660230e-03,\n",
       "        2.66874135e-02, -4.36963327e-03, -3.88440825e-02, -3.45157348e-02,\n",
       "        2.63432562e-02, -1.13770990e-02,  1.42874354e-02, -5.12418374e-02,\n",
       "       -3.99194583e-02, -5.72399870e-02,  7.32692797e-03,  3.06939818e-02,\n",
       "       -4.68088500e-02, -7.85024986e-02,  3.80512550e-02,  7.25926924e-03,\n",
       "       -5.18814661e-02,  5.05590774e-02, -2.64964309e-02,  2.42311731e-02,\n",
       "       -1.04248039e-01,  5.37905768e-02, -4.25789654e-02, -2.54359879e-02,\n",
       "       -1.34343281e-05,  3.19760256e-02,  2.97554377e-02,  2.95492797e-03,\n",
       "        2.85184402e-02,  1.04977489e-02, -5.54234087e-02,  3.96217071e-02,\n",
       "        2.18576081e-02, -7.70084187e-02,  9.50524509e-02,  1.62334666e-02,\n",
       "       -1.08650262e-02,  3.79066393e-02, -6.45002350e-02,  2.83893216e-02,\n",
       "       -8.17002170e-03,  5.08854501e-02, -2.80110780e-02,  4.08277242e-03,\n",
       "        1.73984759e-03, -6.71579763e-02, -8.29258654e-03,  1.52620012e-02,\n",
       "       -7.11401328e-02,  4.35628146e-02,  3.30786221e-02,  3.41033638e-02,\n",
       "       -2.22841632e-02, -5.10504423e-03,  2.60463301e-02,  2.16965154e-02,\n",
       "        1.68834645e-02,  2.93844398e-02,  9.39967185e-02, -3.78549956e-02,\n",
       "        6.18730485e-02, -1.01645375e-02, -9.04285535e-02, -4.31461520e-02,\n",
       "       -1.48550635e-02, -1.55152869e-04,  7.43623916e-03, -3.57465632e-02,\n",
       "       -1.06865037e-02,  1.18028128e-03, -8.93873051e-02,  1.72115024e-02,\n",
       "       -2.11491995e-02,  1.23230610e-02,  4.98451618e-03, -3.75961103e-02,\n",
       "       -1.59924850e-02, -5.65447733e-02,  2.31674407e-02,  1.91112570e-02,\n",
       "        2.38639512e-03,  3.98465395e-02,  2.14873478e-02, -6.93961084e-02,\n",
       "       -1.63737312e-02, -1.67690422e-02, -6.33183494e-02, -2.47218218e-02,\n",
       "       -2.38657016e-02,  1.17887259e-02,  4.38478589e-02,  4.71215211e-02,\n",
       "       -1.76143218e-02,  2.52231713e-02,  2.90866680e-02, -9.28668156e-02,\n",
       "       -5.24801910e-02, -3.47129405e-02,  5.00013717e-02,  2.01190468e-02,\n",
       "       -6.34818003e-02, -2.48622503e-02,  2.26694364e-02,  6.04969487e-02,\n",
       "        4.37793583e-02, -3.75341922e-02, -2.44220383e-02, -4.38386016e-02,\n",
       "        4.91626076e-02,  3.16013135e-02,  9.25049093e-03, -1.00465968e-01,\n",
       "       -1.34168938e-02,  4.41262200e-02,  3.09755653e-02, -2.59037851e-03,\n",
       "       -2.02471390e-04,  1.53238024e-03,  7.06042349e-03,  3.27285286e-03,\n",
       "        2.31086649e-02,  3.00023258e-02,  5.84083647e-02, -8.01158324e-03,\n",
       "        6.29058853e-02,  8.29106495e-02,  4.39868867e-02,  2.38117669e-02,\n",
       "       -2.79639475e-02, -8.46773908e-02,  6.84476830e-03, -9.14193019e-02,\n",
       "       -1.55389979e-02,  1.90464361e-03, -2.33514309e-02, -3.76885082e-03,\n",
       "       -3.42640914e-02, -4.58046095e-03,  3.39436829e-02, -3.65193225e-02,\n",
       "        3.16605605e-02,  7.34463856e-02,  1.67432539e-02, -1.43946493e-02,\n",
       "        3.35156061e-02, -2.14002542e-02, -8.11453164e-03,  1.94067210e-02,\n",
       "        7.34529644e-02,  2.96243187e-02,  2.46376898e-02, -2.86064427e-02,\n",
       "       -2.00650822e-02,  1.95830166e-02, -7.28294179e-02, -3.67567092e-02,\n",
       "       -6.93226326e-03,  6.29147738e-02,  5.61702885e-02, -2.85967831e-02,\n",
       "       -1.83475763e-02,  8.51360410e-02, -4.89848368e-02, -9.14286263e-03,\n",
       "       -4.06881701e-03, -7.42293429e-03, -7.13177174e-02, -3.43823172e-02,\n",
       "        5.68126775e-02, -2.62516234e-02,  2.69094910e-02, -1.22228116e-02,\n",
       "       -5.14600240e-02,  1.20687716e-01,  3.35648619e-02,  5.29464707e-02,\n",
       "       -4.28697504e-02, -4.40360345e-02,  3.41395196e-03, -5.85322641e-03,\n",
       "        3.28851417e-02, -1.50194289e-02, -3.81514132e-02, -2.15805285e-02,\n",
       "       -4.24752943e-02, -2.86728311e-02,  6.67728484e-02,  6.93762898e-02,\n",
       "       -3.21025215e-02,  5.86914271e-02, -6.54190481e-02,  4.01934749e-03,\n",
       "       -4.42550592e-02,  3.54353897e-02,  3.61926295e-02, -7.64454715e-03,\n",
       "       -7.50688696e-03,  1.73025802e-02, -7.51202041e-03, -3.60674858e-02,\n",
       "       -4.49005365e-02, -2.63543800e-02,  8.37584212e-02,  4.69684266e-02,\n",
       "       -4.97244224e-02,  8.14077407e-02, -1.33521631e-02, -1.59236249e-02,\n",
       "       -9.84697696e-03,  4.43364978e-02,  1.41569758e-02,  4.11821064e-03,\n",
       "        2.71875900e-03, -7.18310801e-03, -2.38813460e-04, -2.08758060e-02,\n",
       "       -1.63805913e-02, -8.74202028e-02,  2.45251749e-02, -4.06494401e-02,\n",
       "        3.51080932e-02,  1.40425386e-02, -2.73348708e-02, -2.86985822e-02,\n",
       "       -1.05183655e-02, -3.34048271e-02,  2.95673292e-02,  5.47672212e-02,\n",
       "       -6.12003580e-02,  3.06080114e-02, -1.25679076e-02, -1.51162967e-02,\n",
       "       -4.54052575e-02, -3.56224328e-02,  6.10024296e-02, -1.96686015e-04,\n",
       "        1.83714293e-02, -2.05189139e-02, -1.51417470e-02, -8.23922753e-02,\n",
       "       -2.55620107e-03,  4.36446220e-02, -2.24116240e-02, -8.50763172e-02,\n",
       "        5.03845885e-02, -1.33951046e-02, -4.49111611e-02,  2.08553188e-02,\n",
       "        3.73961441e-02, -2.05010511e-02,  4.50054519e-02, -3.48431990e-02,\n",
       "        7.42561072e-02, -2.32747085e-02,  1.03419013e-02,  5.40381521e-02,\n",
       "        2.74657626e-02, -4.52236347e-02, -7.59533979e-03, -2.12981515e-02,\n",
       "        5.03087081e-02,  7.25424811e-02, -1.75962076e-02,  1.85104832e-02,\n",
       "        1.56664290e-02,  5.58758825e-02, -1.85549315e-02,  1.31913023e-02,\n",
       "       -8.52128211e-03, -1.31828245e-02, -1.11075426e-02, -7.14106411e-02,\n",
       "        1.89485401e-02, -5.35154417e-02,  9.36225504e-02,  4.52469196e-03,\n",
       "        2.82324050e-02,  1.93751696e-02,  4.11965698e-02,  4.27179188e-02,\n",
       "       -8.91731977e-02,  1.55398957e-02,  1.33683803e-02,  7.59791769e-03,\n",
       "        9.58792574e-04, -1.62965022e-02,  4.51272950e-02, -2.67934054e-02,\n",
       "       -5.12150414e-02, -4.16164584e-02,  3.48982844e-03,  5.81669295e-03,\n",
       "        1.56980138e-02, -1.81364231e-02, -3.15772928e-02, -2.65386831e-02,\n",
       "       -2.39050984e-02,  5.83932176e-02,  9.44350734e-02,  1.87750570e-02,\n",
       "       -1.06690250e-01, -2.11517178e-02, -1.97009128e-02, -4.81070876e-02,\n",
       "        8.36140197e-03, -4.01056651e-03,  3.15023549e-02, -5.14275059e-02,\n",
       "        2.49762516e-02, -1.86968036e-02, -4.52284180e-02, -8.86893366e-03,\n",
       "       -1.74245704e-02, -1.48961032e-02, -2.13126652e-02,  5.47437370e-02,\n",
       "       -1.69468652e-02,  1.47606181e-02, -5.23309223e-02,  4.48987707e-02,\n",
       "       -1.73614372e-03, -3.56484018e-02, -5.07503785e-02,  2.60335836e-03,\n",
       "       -2.48465259e-02, -7.16609368e-03,  6.37223721e-02, -8.06271881e-02,\n",
       "        9.97224599e-02, -5.12878522e-02,  2.45388355e-02, -1.80297066e-02,\n",
       "       -1.57837830e-02, -2.33977102e-02,  8.42491630e-03, -4.23805006e-02,\n",
       "        2.49430817e-02,  3.31840366e-02,  1.46757616e-02, -3.11570670e-02,\n",
       "        3.51755600e-03,  6.80510234e-03, -3.23597807e-04,  3.00517231e-02,\n",
       "        5.55451214e-02,  5.97963156e-03,  6.34221882e-02,  1.65381504e-03,\n",
       "        2.33654398e-02,  4.00401466e-02,  4.74481247e-02, -2.04780847e-02,\n",
       "       -4.36315546e-03, -2.38938760e-02,  1.97127112e-03, -4.37518246e-02,\n",
       "       -5.19155152e-02,  4.16334942e-02, -5.27195521e-02, -2.41421368e-02,\n",
       "        1.69963539e-02, -3.95496227e-02,  2.00660666e-03,  8.57298598e-02,\n",
       "       -1.92648955e-02, -3.24971019e-03, -1.58276185e-02, -1.94080621e-02,\n",
       "       -1.13344109e-02,  3.13698649e-02,  1.35723287e-02,  9.09033269e-02,\n",
       "       -1.14686303e-02,  3.52121778e-02,  1.83807388e-02,  5.26657663e-02,\n",
       "       -5.30696698e-02,  8.71373788e-02,  5.22609195e-03, -4.04594839e-02,\n",
       "       -3.54376715e-03, -1.01940520e-02,  9.46529582e-02, -4.00447194e-03,\n",
       "        9.28548630e-03,  4.16688481e-03,  3.07642836e-02, -4.42017838e-02,\n",
       "        2.95161940e-02, -6.81171566e-03, -1.80609915e-02, -1.83076481e-03,\n",
       "       -1.03418291e-01, -3.85193489e-02,  4.49139141e-02,  3.48726666e-04,\n",
       "        3.18527259e-02,  1.72681008e-02,  1.97657198e-02, -2.33843271e-02,\n",
       "        3.05369194e-03, -4.96535562e-02, -2.41074041e-02, -6.07298240e-02,\n",
       "       -3.52005623e-02, -3.34039442e-02,  2.31956765e-02,  1.99399423e-02,\n",
       "        3.56198400e-02, -1.26557145e-02,  1.88990179e-02, -1.64995790e-02,\n",
       "       -6.54917508e-02,  2.02888884e-02,  5.63037954e-02,  4.04038057e-02,\n",
       "        1.31312367e-02,  2.10268535e-02,  2.76266020e-02,  2.01186836e-02,\n",
       "        2.73184627e-02, -4.36127670e-02, -2.67237499e-02, -5.08707110e-03,\n",
       "        8.43342021e-02,  5.59712574e-03, -9.37549695e-02, -3.98219898e-02,\n",
       "        1.12986704e-02,  2.57204976e-02,  7.50084743e-02, -4.07429151e-02,\n",
       "       -3.75748016e-02,  7.58978948e-02,  2.56421305e-02, -4.27483059e-02,\n",
       "        8.89988095e-02,  2.30545178e-03, -1.28309634e-02,  4.03978676e-02,\n",
       "        3.47783417e-02,  3.17622907e-02, -9.90950875e-03, -6.69610174e-03,\n",
       "       -6.08796626e-02, -2.28478685e-02,  1.09373908e-02, -1.30338585e-02,\n",
       "       -4.18290868e-02,  4.23406735e-02,  6.50078664e-03, -7.03124702e-02,\n",
       "        8.17124639e-03,  6.40145242e-02, -3.70700262e-03,  3.94533761e-03,\n",
       "        1.95934274e-03,  1.30486637e-02,  2.28479113e-02,  1.05370032e-02,\n",
       "       -4.17150967e-02, -6.67058378e-02,  1.05759306e-02,  7.25095486e-03],\n",
       "      dtype=float32)"
      ]
     },
     "execution_count": 5,
     "metadata": {},
     "output_type": "execute_result"
    }
   ],
   "source": [
    "embeddings[25]"
   ]
  },
  {
   "cell_type": "code",
   "execution_count": 6,
   "metadata": {},
   "outputs": [],
   "source": [
    "np.save('../../data/multilingual_embeddings_v2.npy', embeddings, allow_pickle=True)"
   ]
  },
  {
   "cell_type": "code",
   "execution_count": 6,
   "metadata": {},
   "outputs": [],
   "source": [
    "def query2vec(search_query):\n",
    "    return(model.encode([search_query]))\n",
    "\n",
    "def get_id(idx):\n",
    "    dataset_id=id_table_new[idx]\n",
    "    return(dataset_id)\n",
    "\n",
    "def get_idx(ids):\n",
    "    dataset_idx=id_table_new.index(ids)\n",
    "    return(dataset_idx)\n",
    "\n",
    "def id2vec(ids):\n",
    "    return(list(embeddings[get_idx(ids)]))\n",
    "\n",
    "def neighbours(vector, n):\n",
    "    n_ids=[]\n",
    "    score=[]\n",
    "    distances = scipy.spatial.distance.cdist(vector, embeddings, \"cosine\")[0]\n",
    "    results = zip(range(len(distances)), distances)\n",
    "    results = sorted(results, key=lambda x: x[1])\n",
    "    for idx, distance in results[0:n]:\n",
    "        n_ids.append(get_id(idx))\n",
    "        score.append(1-distance)\n",
    "    return(n_ids, score, vector)\n",
    "\n",
    "def find_vectors(vector, n_ids):\n",
    "    vectors=[]\n",
    "    for ids in n_ids:\n",
    "        vectors.append(id2vec(ids))\n",
    "    vectors.append(vector[0])\n",
    "    tsne_vec = TSNE(n_components=2).fit_transform(vectors)\n",
    "    return(tsne_vec)\n",
    "\n",
    "def Search(search_query, n):\n",
    "    n_ids, score, vector=neighbours(query2vec(search_query), n)\n",
    "    tsne_vec=find_vectors(vector, n_ids)\n",
    "    #print(n_ids, score)\n",
    "    return(n_ids, score, tsne_vec)\n",
    "\n",
    "def Similarity(ids, n):\n",
    "    n_ids, score=neighbours(id2vec(ids), n)\n",
    "    return(n_ids, score)"
   ]
  },
  {
   "cell_type": "code",
   "execution_count": 7,
   "metadata": {},
   "outputs": [
    {
     "data": {
      "text/plain": [
       "(['5380738aa3a7297e4d35d6dd',\n",
       "  '53699ec5a3a729239d205f76',\n",
       "  '5beafdff06e3e77f2077c70c',\n",
       "  '5cf8582106e3e710bcc3efeb',\n",
       "  '56b0c2fcb595086d5669cb98'],\n",
       " [0.2564903506018905,\n",
       "  0.242749568375619,\n",
       "  0.24093073776975715,\n",
       "  0.23368579172407267,\n",
       "  0.22488530056579192],\n",
       " array([[ 205.6003    , -157.30472   ],\n",
       "        [ -64.05196   , -261.0487    ],\n",
       "        [ 190.27621   ,  131.20094   ],\n",
       "        [  -0.63035893,  -23.595789  ],\n",
       "        [ -88.85616   ,  205.79959   ],\n",
       "        [-246.05716   ,  -36.636738  ]], dtype=float32))"
      ]
     },
     "execution_count": 7,
     "metadata": {},
     "output_type": "execute_result"
    }
   ],
   "source": [
    "Search('bouteilles plastiques', 5)"
   ]
  },
  {
   "cell_type": "markdown",
   "metadata": {},
   "source": [
    "## Benchmark queries try"
   ]
  },
  {
   "cell_type": "code",
   "execution_count": 1,
   "metadata": {},
   "outputs": [],
   "source": [
    "import pandas as pd\n",
    "df=pd.read_csv('../../data/querys.csv', sep=',',error_bad_lines=False, encoding='latin-1') #le fichier original"
   ]
  },
  {
   "cell_type": "code",
   "execution_count": 4,
   "metadata": {},
   "outputs": [],
   "source": [
    "ids=df['expected']\n",
    "queries=np.array(df['query'], dtype=str)"
   ]
  },
  {
   "cell_type": "code",
   "execution_count": 20,
   "metadata": {},
   "outputs": [
    {
     "data": {
      "text/plain": [
       "array(['siren', 'sirene', 'entreprise', 'entreprises', 'siret',\n",
       "       'open damir', 'opendamir', 'damir', 'contours départements',\n",
       "       'emissions polluantes', 'géofla départements',\n",
       "       'effectifs police municipale', 'marchés public bourgogne',\n",
       "       'Liste gares SNCF', 'contours départements français',\n",
       "       'loi de finance 2016', 'lolf 2016', 'formations pas de calais',\n",
       "       'accidents de la circulation', 'accidents de la route',\n",
       "       'risque de décès un an après accident', 'COG',\n",
       "       'code officiel géographique', 'contour commune',\n",
       "       'contours communes', 'contour communes', 'code postal',\n",
       "       'codes postaux', 'prénoms', 'association', 'associations', 'RNA',\n",
       "       'nan', 'répertoire des associations',\n",
       "       'répertoire national des associations', 'waldec',\n",
       "       'organismes de formation', 'organisme de formation',\n",
       "       'bibliothèques', \"annuaire de l'éducation\", 'grand débat',\n",
       "       'vie-publique répertoire'], dtype='<U36')"
      ]
     },
     "execution_count": 20,
     "metadata": {},
     "output_type": "execute_result"
    }
   ],
   "source": [
    "queries"
   ]
  },
  {
   "cell_type": "code",
   "execution_count": 31,
   "metadata": {},
   "outputs": [],
   "source": [
    "positions=['none']*len(queries)\n",
    "for i in range(len(queries)):#_pca):\n",
    "    results=Search(queries[i],100)[0]\n",
    "    k=0\n",
    "    for r in results:\n",
    "        k=k+1\n",
    "        if r==ids[i]:\n",
    "            positions[i]=k"
   ]
  },
  {
   "cell_type": "code",
   "execution_count": 73,
   "metadata": {},
   "outputs": [],
   "source": [
    "acceptable=[]\n",
    "rejected=[]\n",
    "bof=[]\n",
    "for q in range(len(queries)):\n",
    "    if positions[q]=='none':\n",
    "        rejected.append((queries[q], positions[q]))\n",
    "    else:\n",
    "        if positions[q]<=5:\n",
    "             acceptable.append((queries[q], positions[q]))\n",
    "        else:\n",
    "            bof.append((queries[q], positions[q]))"
   ]
  },
  {
   "cell_type": "code",
   "execution_count": 74,
   "metadata": {},
   "outputs": [
    {
     "data": {
      "text/plain": [
       "[('siren', 1),\n",
       " ('sirene', 2),\n",
       " ('contours départements', 5),\n",
       " ('géofla départements', 1),\n",
       " ('effectifs police municipale', 2),\n",
       " ('marchés public bourgogne', 4),\n",
       " ('Liste gares SNCF', 1),\n",
       " ('contours départements français', 1),\n",
       " ('accidents de la circulation', 5),\n",
       " ('risque de décès un an après accident', 2),\n",
       " ('code officiel géographique', 5),\n",
       " ('code postal', 2),\n",
       " ('codes postaux', 3),\n",
       " ('répertoire national des associations', 5)]"
      ]
     },
     "execution_count": 74,
     "metadata": {},
     "output_type": "execute_result"
    }
   ],
   "source": [
    "acceptable"
   ]
  },
  {
   "cell_type": "code",
   "execution_count": 75,
   "metadata": {},
   "outputs": [
    {
     "data": {
      "text/plain": [
       "[('entreprise', 'none'),\n",
       " ('entreprises', 'none'),\n",
       " ('damir', 'none'),\n",
       " ('loi de finance 2016', 'none'),\n",
       " ('lolf 2016', 'none'),\n",
       " ('formations pas de calais', 'none'),\n",
       " ('prénoms', 'none'),\n",
       " ('associations', 'none'),\n",
       " ('nan', 'none'),\n",
       " ('waldec', 'none'),\n",
       " ('bibliothèques', 'none'),\n",
       " ('vie-publique répertoire', 'none')]"
      ]
     },
     "execution_count": 75,
     "metadata": {},
     "output_type": "execute_result"
    }
   ],
   "source": [
    "rejected"
   ]
  },
  {
   "cell_type": "code",
   "execution_count": 76,
   "metadata": {},
   "outputs": [
    {
     "data": {
      "text/plain": [
       "[('siret', 11),\n",
       " ('open damir', 18),\n",
       " ('opendamir', 37),\n",
       " ('emissions polluantes', 30),\n",
       " ('accidents de la route', 7),\n",
       " ('COG', 11),\n",
       " ('contour commune', 56),\n",
       " ('contours communes', 95),\n",
       " ('contour communes', 57),\n",
       " ('association', 69),\n",
       " ('RNA', 21),\n",
       " ('répertoire des associations', 24),\n",
       " ('organismes de formation', 72),\n",
       " ('organisme de formation', 68),\n",
       " (\"annuaire de l'éducation\", 19),\n",
       " ('grand débat', 10)]"
      ]
     },
     "execution_count": 76,
     "metadata": {},
     "output_type": "execute_result"
    }
   ],
   "source": [
    "bof"
   ]
  },
  {
   "cell_type": "code",
   "execution_count": 47,
   "metadata": {},
   "outputs": [
    {
     "data": {
      "text/plain": [
       "[1,\n",
       " 2,\n",
       " 'none',\n",
       " 'none',\n",
       " 11,\n",
       " 18,\n",
       " 37,\n",
       " 'none',\n",
       " 5,\n",
       " 30,\n",
       " 1,\n",
       " 2,\n",
       " 4,\n",
       " 1,\n",
       " 1,\n",
       " 'none',\n",
       " 'none',\n",
       " 'none',\n",
       " 5,\n",
       " 7,\n",
       " 2,\n",
       " 11,\n",
       " 5,\n",
       " 56,\n",
       " 95,\n",
       " 57,\n",
       " 2,\n",
       " 3,\n",
       " 'none',\n",
       " 69,\n",
       " 'none',\n",
       " 21,\n",
       " 'none',\n",
       " 24,\n",
       " 5,\n",
       " 'none',\n",
       " 72,\n",
       " 68,\n",
       " 'none',\n",
       " 19,\n",
       " 10,\n",
       " 'none']"
      ]
     },
     "execution_count": 47,
     "metadata": {},
     "output_type": "execute_result"
    }
   ],
   "source": [
    "positions"
   ]
  },
  {
   "cell_type": "markdown",
   "metadata": {},
   "source": [
    "## Debugging the scripts"
   ]
  },
  {
   "cell_type": "code",
   "execution_count": 1,
   "metadata": {},
   "outputs": [],
   "source": [
    "embed=np.load('../../data/test/embeddings.npy')"
   ]
  },
  {
   "cell_type": "code",
   "execution_count": 4,
   "metadata": {},
   "outputs": [],
   "source": [
    "embeddings=np.load('../../data/multilingual_embeddings_v2.npy')"
   ]
  }
 ],
 "metadata": {
  "kernelspec": {
   "display_name": "Python 3",
   "language": "python",
   "name": "python3"
  },
  "language_info": {
   "codemirror_mode": {
    "name": "ipython",
    "version": 3
   },
   "file_extension": ".py",
   "mimetype": "text/x-python",
   "name": "python",
   "nbconvert_exporter": "python",
   "pygments_lexer": "ipython3",
   "version": "3.7.7"
  },
  "toc": {
   "base_numbering": 1,
   "nav_menu": {},
   "number_sections": true,
   "sideBar": true,
   "skip_h1_title": false,
   "title_cell": "Table of Contents",
   "title_sidebar": "Contents",
   "toc_cell": false,
   "toc_position": {},
   "toc_section_display": true,
   "toc_window_display": false
  },
  "varInspector": {
   "cols": {
    "lenName": 16,
    "lenType": 16,
    "lenVar": 40
   },
   "kernels_config": {
    "python": {
     "delete_cmd_postfix": "",
     "delete_cmd_prefix": "del ",
     "library": "var_list.py",
     "varRefreshCmd": "print(var_dic_list())"
    },
    "r": {
     "delete_cmd_postfix": ") ",
     "delete_cmd_prefix": "rm(",
     "library": "var_list.r",
     "varRefreshCmd": "cat(var_dic_list()) "
    }
   },
   "types_to_exclude": [
    "module",
    "function",
    "builtin_function_or_method",
    "instance",
    "_Feature"
   ],
   "window_display": false
  }
 },
 "nbformat": 4,
 "nbformat_minor": 4
}
